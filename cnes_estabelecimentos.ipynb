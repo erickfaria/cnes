{
  "nbformat": 4,
  "nbformat_minor": 0,
  "metadata": {
    "colab": {
      "provenance": [],
      "authorship_tag": "ABX9TyP5IjcYMnMYorZKVcxDdGkS",
      "include_colab_link": true
    },
    "kernelspec": {
      "name": "python3",
      "display_name": "Python 3"
    },
    "language_info": {
      "name": "python"
    }
  },
  "cells": [
    {
      "cell_type": "markdown",
      "metadata": {
        "id": "view-in-github",
        "colab_type": "text"
      },
      "source": [
        "<a href=\"https://colab.research.google.com/github/erickfaria/cnes/blob/cnes_estabelecimentos/cnes_estabelecimentos.ipynb\" target=\"_parent\"><img src=\"https://colab.research.google.com/assets/colab-badge.svg\" alt=\"Open In Colab\"/></a>"
      ]
    },
    {
      "cell_type": "code",
      "source": [
        "import zipfile\n",
        "import datetime\n",
        "import pandas as pd\n",
        "import numpy as np\n",
        "from ftplib import FTP"
      ],
      "metadata": {
        "id": "_07prVAqDEVD"
      },
      "execution_count": 1,
      "outputs": []
    },
    {
      "cell_type": "code",
      "source": [
        "year = datetime.date.today().year\n",
        "last_month = datetime.date.today().month - 1\n",
        "month = '{:02d}'.format(last_month)"
      ],
      "metadata": {
        "id": "s2OESN7EDGkk"
      },
      "execution_count": 2,
      "outputs": []
    },
    {
      "cell_type": "code",
      "source": [
        "cnes = f'BASE_DE_DADOS_CNES_{year}{month}.zip'\n",
        "\n",
        "ftp = FTP(f'ftp.datasus.gov.br') # Faz a conexão com o FTP do datasus\n",
        "ftp.login() # Login sem necessidade de usuário e senha\n",
        "ftp.cwd('cnes') #Diretório para os arquivos do CNES\n",
        "\n",
        "# Download dos dados\n",
        "with open(f'{cnes}', 'wb') as fp:\n",
        "  ftp.retrbinary(f'RETR {cnes}', fp.write)\n",
        "\n",
        "ftp.quit() # Fecha a conexão com o FTP"
      ],
      "metadata": {
        "id": "D4LD50PhDIPV"
      },
      "execution_count": null,
      "outputs": []
    },
    {
      "cell_type": "code",
      "source": [
        "with zipfile.ZipFile(f'/content/{cnes}', 'r') as zip_ref:\n",
        "    zip_ref.extractall('/content/')"
      ],
      "metadata": {
        "id": "Rra78tSADKMH"
      },
      "execution_count": null,
      "outputs": []
    },
    {
      "cell_type": "code",
      "execution_count": null,
      "metadata": {
        "id": "ElnjxFohC1lv"
      },
      "outputs": [],
      "source": [
        "cnes_estab = pd.read_csv(f'/content/tbEstabelecimento{year}{month}.csv', sep=';', header=0,\n",
        "                         usecols=(0,1,2,3,4,5,6,19,20,21,28,29,31,43,49), names=['num_unidade','num_cnes','num_cnpj_mantenedora',\n",
        "                        'cod_pessoa','cod_situacao','nom_razao_social','nom_fantasia','num_cpf_estabelecimento',\n",
        "                        'num_cnpj_estabelecimento','cod_atividade','cod_tipo','cod_turno','cod_mun','cod_natureza','cod_gestao'],\n",
        "                         dtype={'num_unidade':str,'num_cnes':str,'num_cnpj_mantenedora':str,'cod_pessoa':int,'cod_situacao':int,\n",
        "                        'nom_razao_social':str,'nom_fantasia':str,'num_cpf_estabelecimento':str,'num_cnpj_estabelecimento':str,\n",
        "                        'cod_atividade':int,'cod_tipo':int,'cod_turno':float,'cod_mun':int,'cod_natureza':float,'cod_gestao':str})"
      ]
    }
  ]
}